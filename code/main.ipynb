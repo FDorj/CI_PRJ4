{
 "cells": [
  {
   "cell_type": "markdown",
   "metadata": {},
   "source": [
    "## import modules"
   ]
  },
  {
   "cell_type": "code",
   "execution_count": 1,
   "metadata": {},
   "outputs": [],
   "source": [
    "from dataset_preparation import create_distnce_matrix\n",
    "from optimizer import run_algorithm\n",
    "import matplotlib.pyplot as plt"
   ]
  },
  {
   "cell_type": "markdown",
   "metadata": {},
   "source": [
    "## data preparation"
   ]
  },
  {
   "cell_type": "code",
   "execution_count": 2,
   "metadata": {},
   "outputs": [],
   "source": [
    "distance_matrix = create_distnce_matrix(\"data\")"
   ]
  },
  {
   "cell_type": "markdown",
   "metadata": {},
   "source": [
    "## running optimizer on data set"
   ]
  },
  {
   "cell_type": "code",
   "execution_count": null,
   "metadata": {},
   "outputs": [
    {
     "name": "stdout",
     "output_type": "stream",
     "text": [
      "Current Generation: 10, Best Fitness: -960.7626355614578\n"
     ]
    }
   ],
   "source": [
    "best_individual, best_fitness_list, avg_fitness_list= run_algorithm(distance_matrix, population_size=10 , generation_size=10)"
   ]
  },
  {
   "cell_type": "markdown",
   "metadata": {},
   "source": [
    "## visualization"
   ]
  },
  {
   "cell_type": "code",
   "execution_count": null,
   "metadata": {},
   "outputs": [],
   "source": [
    "print(best_individual)\n",
    "\n",
    "\n",
    "fig, axs = plt.subplots(1, 2, figsize=(10, 4))\n",
    "axs[0].plot([i for i in range(len(best_fitness_list))], best_fitness_list, color='blue')\n",
    "axs[0].set_title(\"best fitness\")\n",
    "axs[0].set_xlabel(\"iteration\")\n",
    "axs[0].set_ylabel(\"best fitness\")\n",
    "\n",
    "axs[1].plot([i for i in range(len(avg_fitness_list))], avg_fitness_list, color='red')\n",
    "axs[1].set_title(\"average fitness\")\n",
    "axs[1].set_xlabel(\"iteration\")\n",
    "axs[1].set_ylabel(\"avg fitness\")\n",
    "\n",
    "plt.tight_layout()\n",
    "plt.show()"
   ]
  }
 ],
 "metadata": {
  "kernelspec": {
   "display_name": "quera",
   "language": "python",
   "name": "python3"
  },
  "language_info": {
   "codemirror_mode": {
    "name": "ipython",
    "version": 3
   },
   "file_extension": ".py",
   "mimetype": "text/x-python",
   "name": "python",
   "nbconvert_exporter": "python",
   "pygments_lexer": "ipython3",
   "version": "3.9.20"
  }
 },
 "nbformat": 4,
 "nbformat_minor": 2
}
